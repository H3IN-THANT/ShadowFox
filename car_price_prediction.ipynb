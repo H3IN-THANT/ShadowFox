{
  "nbformat": 4,
  "nbformat_minor": 0,
  "metadata": {
    "colab": {
      "provenance": [],
      "authorship_tag": "ABX9TyPkf9GGG3eBHEtJawQeH62O",
      "include_colab_link": true
    },
    "kernelspec": {
      "name": "python3",
      "display_name": "Python 3"
    },
    "language_info": {
      "name": "python"
    }
  },
  "cells": [
    {
      "cell_type": "markdown",
      "metadata": {
        "id": "view-in-github",
        "colab_type": "text"
      },
      "source": [
        "<a href=\"https://colab.research.google.com/github/H3IN-THANT/ShadowFox/blob/main/car_price_prediction.ipynb\" target=\"_parent\"><img src=\"https://colab.research.google.com/assets/colab-badge.svg\" alt=\"Open In Colab\"/></a>"
      ]
    },
    {
      "cell_type": "code",
      "execution_count": null,
      "metadata": {
        "id": "OuhfQdkfGzxl"
      },
      "outputs": [],
      "source": [
        "import pandas as pd\n",
        "import numpy as np\n",
        "import matplotlib.pyplot as plt\n",
        "import seaborn as sns"
      ]
    },
    {
      "cell_type": "code",
      "source": [
        "try:\n",
        "  df = pd.read_csv('car.csv')\n",
        "  print(\"Dataset loaded successfully.\")\n",
        "except FileNotFoundError:\n",
        "  print(\"Error: File not found!\")\n",
        "  exit()"
      ],
      "metadata": {
        "colab": {
          "base_uri": "https://localhost:8080/"
        },
        "id": "8PlEZsn-HVnR",
        "outputId": "a7018b57-8f43-48e4-cd13-b6201334b7a1"
      },
      "execution_count": null,
      "outputs": [
        {
          "output_type": "stream",
          "name": "stdout",
          "text": [
            "Dataset loaded successfully.\n"
          ]
        }
      ]
    },
    {
      "cell_type": "code",
      "source": [
        "print(\"\\n------ Data Sample -----\")\n",
        "print(df.head())\n",
        "print(\"\\n --- Dataset Info ---\")\n",
        "df.info()\n",
        "print(\"\\n --- Dataset Description ---\")\n",
        "print(df.describe())"
      ],
      "metadata": {
        "colab": {
          "base_uri": "https://localhost:8080/"
        },
        "id": "KDShUhYNHlPC",
        "outputId": "52ef4841-e93a-4227-a100-c6f0576b71a3"
      },
      "execution_count": null,
      "outputs": [
        {
          "output_type": "stream",
          "name": "stdout",
          "text": [
            "\n",
            "------ Data Sample -----\n",
            "  Car_Name  Year  Selling_Price  Present_Price  Kms_Driven Fuel_Type  \\\n",
            "0     ritz  2014           3.35           5.59       27000    Petrol   \n",
            "1      sx4  2013           4.75           9.54       43000    Diesel   \n",
            "2     ciaz  2017           7.25           9.85        6900    Petrol   \n",
            "3  wagon r  2011           2.85           4.15        5200    Petrol   \n",
            "4    swift  2014           4.60           6.87       42450    Diesel   \n",
            "\n",
            "  Seller_Type Transmission  Owner  \n",
            "0      Dealer       Manual      0  \n",
            "1      Dealer       Manual      0  \n",
            "2      Dealer       Manual      0  \n",
            "3      Dealer       Manual      0  \n",
            "4      Dealer       Manual      0  \n",
            "\n",
            " --- Dataset Info ---\n",
            "<class 'pandas.core.frame.DataFrame'>\n",
            "RangeIndex: 301 entries, 0 to 300\n",
            "Data columns (total 9 columns):\n",
            " #   Column         Non-Null Count  Dtype  \n",
            "---  ------         --------------  -----  \n",
            " 0   Car_Name       301 non-null    object \n",
            " 1   Year           301 non-null    int64  \n",
            " 2   Selling_Price  301 non-null    float64\n",
            " 3   Present_Price  301 non-null    float64\n",
            " 4   Kms_Driven     301 non-null    int64  \n",
            " 5   Fuel_Type      301 non-null    object \n",
            " 6   Seller_Type    301 non-null    object \n",
            " 7   Transmission   301 non-null    object \n",
            " 8   Owner          301 non-null    int64  \n",
            "dtypes: float64(2), int64(3), object(4)\n",
            "memory usage: 21.3+ KB\n"
          ]
        }
      ]
    },
    {
      "cell_type": "code",
      "source": [
        "print(\"\\n--- Missing Values Before Handling ---\")\n",
        "print(df.isnull().sum())"
      ],
      "metadata": {
        "colab": {
          "base_uri": "https://localhost:8080/"
        },
        "id": "BDW1qgIAIP8z",
        "outputId": "ea7550fb-f10a-40c4-ed2b-0d9516a0bc6f"
      },
      "execution_count": null,
      "outputs": [
        {
          "output_type": "stream",
          "name": "stdout",
          "text": [
            "\n",
            "--- Missing Values Before Handling ---\n",
            "Car_Name         0\n",
            "Year             0\n",
            "Selling_Price    0\n",
            "Present_Price    0\n",
            "Kms_Driven       0\n",
            "Fuel_Type        0\n",
            "Seller_Type      0\n",
            "Transmission     0\n",
            "Owner            0\n",
            "dtype: int64\n"
          ]
        }
      ]
    },
    {
      "cell_type": "code",
      "source": [
        "cur_year = 2025\n",
        "df['Years_since_Manufacture'] = cur_year - df['Year']\n",
        "print(\"\\n --- Data with New Feature 'Years_since_Manufacture' ---\")\n",
        "print(df.head())"
      ],
      "metadata": {
        "colab": {
          "base_uri": "https://localhost:8080/"
        },
        "id": "F6hXucXoImCr",
        "outputId": "a7a9f7b6-3bc9-4190-bf04-af2c58e54d20"
      },
      "execution_count": null,
      "outputs": [
        {
          "output_type": "stream",
          "name": "stdout",
          "text": [
            "\n",
            " --- Data with New Feature 'Years_since_Manufacture' ---\n",
            "  Car_Name  Year  Selling_Price  Present_Price  Kms_Driven Fuel_Type  \\\n",
            "0     ritz  2014           3.35           5.59       27000    Petrol   \n",
            "1      sx4  2013           4.75           9.54       43000    Diesel   \n",
            "2     ciaz  2017           7.25           9.85        6900    Petrol   \n",
            "3  wagon r  2011           2.85           4.15        5200    Petrol   \n",
            "4    swift  2014           4.60           6.87       42450    Diesel   \n",
            "\n",
            "  Seller_Type Transmission  Owner  Years_since_Manufacture  \n",
            "0      Dealer       Manual      0                       11  \n",
            "1      Dealer       Manual      0                       12  \n",
            "2      Dealer       Manual      0                        8  \n",
            "3      Dealer       Manual      0                       14  \n",
            "4      Dealer       Manual      0                       11  \n"
          ]
        }
      ]
    },
    {
      "cell_type": "code",
      "source": [
        "categorical_cols = df.select_dtypes(include='object').columns\n",
        "print(\"\\n --- Categorical Columns ---\")\n",
        "print(list(categorical_cols))\n",
        "df = pd.get_dummies(df, columns=categorical_cols, drop_first=True)\n",
        "print(\"\\n --- Data after One-Hot Encoding ---\")\n",
        "print(df.head())\n",
        "print(\"\\n --- Data Info after Preprocessing ---\")\n",
        "df.info()"
      ],
      "metadata": {
        "colab": {
          "base_uri": "https://localhost:8080/"
        },
        "id": "KnzXpKM7JATJ",
        "outputId": "cc06a636-b957-42f4-873a-f38b3db9d32c"
      },
      "execution_count": null,
      "outputs": [
        {
          "output_type": "stream",
          "name": "stdout",
          "text": [
            "\n",
            " --- Categorical Columns ---\n",
            "['Car_Name', 'Fuel_Type', 'Seller_Type', 'Transmission']\n",
            "\n",
            " --- Data after One-Hot Encoding ---\n",
            "   Year  Selling_Price  Present_Price  Kms_Driven  Owner  \\\n",
            "0  2014           3.35           5.59       27000      0   \n",
            "1  2013           4.75           9.54       43000      0   \n",
            "2  2017           7.25           9.85        6900      0   \n",
            "3  2011           2.85           4.15        5200      0   \n",
            "4  2014           4.60           6.87       42450      0   \n",
            "\n",
            "   Years_since_Manufacture  Car_Name_Activa 3g  Car_Name_Activa 4g  \\\n",
            "0                       11               False               False   \n",
            "1                       12               False               False   \n",
            "2                        8               False               False   \n",
            "3                       14               False               False   \n",
            "4                       11               False               False   \n",
            "\n",
            "   Car_Name_Bajaj  ct 100  Car_Name_Bajaj Avenger 150  ...  Car_Name_swift  \\\n",
            "0                   False                       False  ...           False   \n",
            "1                   False                       False  ...           False   \n",
            "2                   False                       False  ...           False   \n",
            "3                   False                       False  ...           False   \n",
            "4                   False                       False  ...            True   \n",
            "\n",
            "   Car_Name_sx4  Car_Name_verna  Car_Name_vitara brezza  Car_Name_wagon r  \\\n",
            "0         False           False                   False             False   \n",
            "1          True           False                   False             False   \n",
            "2         False           False                   False             False   \n",
            "3         False           False                   False              True   \n",
            "4         False           False                   False             False   \n",
            "\n",
            "   Car_Name_xcent  Fuel_Type_Diesel  Fuel_Type_Petrol  Seller_Type_Individual  \\\n",
            "0           False             False              True                   False   \n",
            "1           False              True             False                   False   \n",
            "2           False             False              True                   False   \n",
            "3           False             False              True                   False   \n",
            "4           False              True             False                   False   \n",
            "\n",
            "   Transmission_Manual  \n",
            "0                 True  \n",
            "1                 True  \n",
            "2                 True  \n",
            "3                 True  \n",
            "4                 True  \n",
            "\n",
            "[5 rows x 107 columns]\n",
            "\n",
            " --- Data Info after Preprocessing ---\n",
            "<class 'pandas.core.frame.DataFrame'>\n",
            "RangeIndex: 301 entries, 0 to 300\n",
            "Columns: 107 entries, Year to Transmission_Manual\n",
            "dtypes: bool(101), float64(2), int64(4)\n",
            "memory usage: 43.9 KB\n"
          ]
        }
      ]
    },
    {
      "cell_type": "code",
      "source": [
        "# --- Exploratory Data Analysis (EDA) ---\n",
        "print(\"\\n -- Descriptive Statistics ---\")\n",
        "print(df.describe())\n",
        "\n",
        "plt.figure(figsize=(10, 6))\n",
        "sns.histplot(df['Price'], bins=20, kde=True)\n",
        "plt.title('Distribution of Car Prices')\n",
        "plt.xlabel('Selling Price')\n",
        "plt.ylabel('Frequency')\n",
        "plt.show()"
      ],
      "metadata": {
        "id": "IOvHhvph5xM0"
      },
      "execution_count": null,
      "outputs": []
    },
    {
      "cell_type": "code",
      "source": [
        "plt.figure(figsize=(10,6))\n",
        "sns.histplot(df['Selling_Price'], kde= True, bins = 30)\n",
        "plt.title('Distibution of Selling Price')\n",
        "plt.xlabel('Selling Price')\n",
        "plt.ylabel('Frequency')\n",
        "plt.show()\n",
        "\n",
        "plt.figure(figsize=(10,6))\n",
        "sns.histplot(df['Kms_Driven'], kde= True, bins = 30)\n",
        "plt.title('Distibution of Kilometers Driven')\n",
        "plt.xlabel('Km Driven')\n",
        "plt.ylabel('Frequency')\n",
        "plt.show()\n",
        "\n",
        "plt.figure(figsize=(10,6))\n",
        "sns.histplot(df['Present_Price'], kde= True, bins = 30)\n",
        "plt.title('Distibution of Present Price')\n",
        "plt.xlabel('Present Price')\n",
        "plt.ylabel('Frequency')\n",
        "plt.show()\n",
        "\n",
        "plt.figure(figsize=(10,6))\n",
        "sns.histplot(df['Years_since_Manufacture'], kde= True, bins = 30)\n",
        "plt.title('Distibution of Years Since Manufacture')\n",
        "plt.xlabel('Years Since Manufacture')\n",
        "plt.ylabel('Frequency')"
      ],
      "metadata": {
        "id": "qa0uUlV86cKS"
      },
      "execution_count": null,
      "outputs": []
    },
    {
      "cell_type": "code",
      "source": [
        "#Examine correlations bet features and Selling price\n",
        "\n",
        "plt.figure(figsize=(12,10))\n",
        "sns.heatmap(df.corr(numeric_only=True), annot=True, cmap='coolwarm', fmt=\".2f\")\n",
        "plt.title('Correlation Matrix of Features')\n",
        "plt.show()\n",
        "\n",
        "plt.figure(figsize=(15,5))\n",
        "plt.subplot(1, 3, 1)\n",
        "sns.scatterplot(x='Present_Price', y= 'Selling_Price', data = df)\n",
        "plt.title('Selling Price Vs. Present Price')\n",
        "\n",
        "plt.subplot(1, 3, 2)\n",
        "sns.scatterplot(x='Kms_Driven', y= 'Selling_Price', data = df)\n",
        "plt.title('Selling Price Vs. Kms Driven')\n",
        "\n",
        "plt.subplot(1, 3, 3)\n",
        "sns.scatterplot(x='Years_since_Manufacture', y= 'Selling_Price', data = df)\n",
        "plt.title('Selling Price Vs. Years Since Manufacture')\n",
        "plt.tight_layout()\n",
        "plt.show()"
      ],
      "metadata": {
        "id": "1bev9a047BrA"
      },
      "execution_count": null,
      "outputs": []
    },
    {
      "cell_type": "code",
      "source": [
        "#Rs between categorical features & Selling_Price\n",
        "\n",
        "plt.figure(figsize=(18,6))\n",
        "plt.subplot(1, 3, 1)\n",
        "sns.boxplot(x='Fuel_Type_Diesel', y='Selling_Price', data=df)\n",
        "plt.title('Selling Price vs. Fuel Type (Diesel)')\n",
        "\n",
        "plt.subplot(1, 3, 2)\n",
        "sns.boxplot(x='Seller_Type_Individual', y='Selling_Price', data=df)\n",
        "plt.title('Selling Price by Seller Type (Individual)')\n",
        "\n",
        "plt.subplot(1, 3, 3)\n",
        "sns.boxplot(x='Transmission_Manual', y='Selling_Price', data=df)\n",
        "plt.title('Selling Price by Transmission Type (Manual)')\n",
        "plt.tight_layout()\n",
        "plt.show()"
      ],
      "metadata": {
        "id": "j8h4hZhg8WXo"
      },
      "execution_count": null,
      "outputs": []
    },
    {
      "cell_type": "code",
      "source": [
        "print(\"\\n --- Final Preprocessed and Engineered Data Sample --- \")\n",
        "print(df.head())\n",
        "print(\"\\n --- Final Preprocessed and Engineered Data Info --- \")\n",
        "df.info()"
      ],
      "metadata": {
        "id": "COUV31WY-l1h"
      },
      "execution_count": null,
      "outputs": []
    },
    {
      "cell_type": "code",
      "source": [
        "from sklearn.model_selection import train_test_split, RandomizedSearchCV\n",
        "from sklearn.linear_model import RandomForestRegressor\n",
        "from sklearn.metrics import mean_squared_error\n",
        "import joblib"
      ],
      "metadata": {
        "id": "GbISvE2fHmkx"
      },
      "execution_count": null,
      "outputs": []
    },
    {
      "cell_type": "code",
      "source": [
        "x = df.drop('Selling_Price', axis = 1)\n",
        "y = df['Selling_Price']\n",
        "\n",
        "x_train, y_train, x_test, y_test = train_test_split(x, y, test_size=0.2, random_state=42)\n",
        "\n",
        "print(f'Training set size: {x_train.shape[0]} samples')\n",
        "print(f'Test set size: {x_test.shape[0]} samples')"
      ],
      "metadata": {
        "id": "nHFB9gw-H4i1"
      },
      "execution_count": null,
      "outputs": []
    },
    {
      "cell_type": "code",
      "source": [
        "# Model\n",
        "rf_reg = RandomForestRegressor(random_state = 42)\n",
        "\n",
        "param_dist = {\n",
        "    'n_estimators': [100, 200, 300, 400],\n",
        "    'max_features' : ['auto', 'sqrt', 'log2'],\n",
        "    'max_depth': [None, 10, 20, 30, 40, 50],\n",
        "    'min_samples_split': [2, 5, 10],\n",
        "    'min_samples_leaf': [1, 2, 4]\n",
        "}\n",
        "\n",
        "rf_ran_search = RandomizedSearchCV(estimator=rf_reg, param_distributions=param_dist, n_iter=10, cv=3, verbose = 2, random_state=42, n_jobs=-1)\n",
        "rf_ran_search.fit(x_train, y_train)\n",
        "best_params = rf_ran_search.best_params_\n",
        "print(f'Best HyperParameters: {best_params}')\n",
        "\n",
        "best_rf_model = rf_ran_search.best_estimator_\n",
        "y_pred = best_rf_model.predict(x_test)\n",
        "\n",
        "mse = mean_squared_error(y_test, y_pred)\n",
        "rmse = np.sqrt(mse)\n",
        "print(f'Mean Squared Error: {mse:.2f}')\n",
        "print(f'Root Mean Squared Error: {rmse:.2f}')"
      ],
      "metadata": {
        "id": "8TPe_VlfImqx"
      },
      "execution_count": null,
      "outputs": []
    },
    {
      "cell_type": "code",
      "source": [
        "# Deployment\n",
        "\n",
        "joblib.dump(best_rf_model, 'car_prediction_model.pkl')\n",
        "print(\"Model saved as 'car_price_predictor_model.pkl'.\")"
      ],
      "metadata": {
        "id": "2fJ38yzIJ9bN"
      },
      "execution_count": null,
      "outputs": []
    }
  ]
}